{
 "cells": [
  {
   "cell_type": "code",
   "execution_count": null,
   "metadata": {},
   "outputs": [],
   "source": [
    "#!pip install openai\n",
    "import openai\n",
    "import pandas as pd\n",
    "import time"
   ]
  },
  {
   "cell_type": "code",
   "execution_count": null,
   "metadata": {},
   "outputs": [],
   "source": [
    "# Collect the product names from inventory csv files\n",
    "\n",
    "df_start_inv= pd.read_csv(\"BegInvFINAL12312016.csv\")\n",
    "product_names_1= df_start_inv.Description.unique().tolist()\n",
    "df_end_inv= pd.read_csv(\"EndInvFINAL12312016.csv\")\n",
    "product_names_2= df_end_inv.Description.unique().tolist()\n",
    "product_names = product_names_1 + product_names_2\n",
    "product_names= list(set(product_names))\n",
    "print(\"Total Unique Products:\", len(product_names))"
   ]
  },
  {
   "cell_type": "code",
   "execution_count": null,
   "metadata": {},
   "outputs": [],
   "source": [
    "# Set up the GPT API\n",
    "APIKEY= \"\" # Enter API key\n",
    "openai.api_key = APIKEY"
   ]
  },
  {
   "cell_type": "code",
   "execution_count": null,
   "metadata": {},
   "outputs": [],
   "source": [
    "import openai\n",
    "\n",
    "APIKEY = \"Enter API Key\"\n",
    "query= \"What is the Alcohol By Type (ABV) of Jagermeister Liqueur?\"\n",
    "\n",
    "openai.api_key= APIKEY\n",
    "response = openai.chat.completions.create(\n",
    "    model=\"gpt-3.5-turbo\", \n",
    "    messages=[{\n",
    "        \"role\": \"user\", \n",
    "        \"content\": query}]\n",
    "    )"
   ]
  },
  {
   "cell_type": "markdown",
   "metadata": {},
   "source": [
    "# 1. ABV"
   ]
  },
  {
   "cell_type": "code",
   "execution_count": null,
   "metadata": {},
   "outputs": [],
   "source": [
    "# Query through each product and collect ABV (Alcohol By Volume)\n",
    "\n",
    "product_id=list()\n",
    "products=list()\n",
    "ABV=list()\n",
    "error_products_id=list()\n",
    "error_products=list()\n",
    "error_products_error=list()\n",
    "\n",
    "id=0\n",
    "\n",
    "for product_name in product_names[id:]:\n",
    "    query = \"What is the ABV of \"+product_name+ \"? Also only give me the number but no text. For example, for the prompt 'What is the ABV of Jagermeister Liqueur?' response is '35'\"\n",
    "    output = openai.chat.completions.create(\n",
    "        model=\"gpt-3.5-turbo\", \n",
    "        messages=[{\"role\": \"user\", \n",
    "                   \"content\": query\n",
    "                   }])\n",
    "    result= output.choices[0].message.content\n",
    "    \n",
    "    try:\n",
    "        result_final= float(result)\n",
    "        product_id.append(id)\n",
    "        products.append(product_name)\n",
    "        ABV.append(result_final)\n",
    "        print(id,end=' ')\n",
    "    except:\n",
    "        error_products_id.append(id)\n",
    "        error_products.append(product_name)\n",
    "        error_products_error.append(result)\n",
    "        print(\"\\nError= \"+product_name+\" -> \"+ result+ \"\\n\")\n",
    "    id+=1\n",
    "        "
   ]
  },
  {
   "cell_type": "code",
   "execution_count": null,
   "metadata": {},
   "outputs": [],
   "source": [
    "# Store successful queries \n",
    "result_df=pd.read_excel('product_desc.xlsx')\n",
    "\n",
    "new_product_info=pd.DataFrame({\n",
    "    \"product_id\":product_id,\n",
    "    \"product_name\":products,\n",
    "    \"abv\":ABV\n",
    "})\n",
    "\n",
    "result_df= result_df.append(new_product_info)\n",
    "result_df.to_excel('product_desc.xlsx',index=False)\n",
    "\n",
    "# Store unsuccessful queries \n",
    "error_df=pd.read_excel('product_desc_error.xlsx')\n",
    "\n",
    "new_product_info=pd.DataFrame({\n",
    "    \"product_id\":error_products_id ,\n",
    "    \"product_name\":error_products,\n",
    "    \"abv_error\":error_products_error\n",
    "})\n",
    "\n",
    "error_df= error_df.append(new_product_info)\n",
    "error_df.to_excel('product_desc_error.xlsx',index=False)"
   ]
  },
  {
   "cell_type": "markdown",
   "metadata": {},
   "source": [
    "# 2. Alcohol Type (whiskey, vodka, rum, tequila, gin, Liqueurs, Wine, Beer, Cider, Fortified wines, non-alcoholic, other)"
   ]
  },
  {
   "cell_type": "code",
   "execution_count": null,
   "metadata": {},
   "outputs": [],
   "source": [
    "# Store successful queries \n",
    "def save_op(product_id, products, AT):\n",
    "    result_df=pd.read_excel('product_desc.xlsx')\n",
    "    new_product_info=pd.DataFrame({\n",
    "        \"product_id\":product_id,\n",
    "        \"product_name\":products,\n",
    "        \"alcohol_type\":AT\n",
    "    })\n",
    "    result_df= result_df.append(new_product_info)\n",
    "    result_df.to_excel('product_desc.xlsx',index=False)\n",
    "    print(\"DF Save Success\")\n",
    "\n",
    "# Query through each product and collect ABV (Alcohol By Volume)\n",
    "product_id=list()\n",
    "products=list()\n",
    "AT=list()\n",
    "\n",
    "id=0\n",
    "\n",
    "for product_name in product_names[id:]:\n",
    "    query = 'What is the alcoholic type of'+product_name+'? Choose one from [whiskey, vodka, rum, tequila, gin, Liqueurs, Wine, Beer, Cider, Fortified wines, non-alcoholic, other]. Example response: \"Liqueurs\"'\n",
    "    output = openai.chat.completions.create(\n",
    "        model=\"gpt-3.5-turbo\", \n",
    "        messages=[{\"role\": \"user\", \n",
    "                   \"content\": query\n",
    "                   }])\n",
    "    result= output.choices[0].message.content\n",
    "\n",
    "    # If the value returned is numeric as expected \n",
    "        #    if(result.isnumeric() or result.replace('.','',1).isnumeric()):\n",
    "    result_final= result\n",
    "    product_id.append(id)\n",
    "    products.append(product_name)\n",
    "    AT.append(result_final)\n",
    "    print(id,end=' ')\n",
    "    if(id%1000 == 0): \n",
    "        save_op(product_id, products, AT)\n",
    "        product_id=list()\n",
    "        products=list()\n",
    "        AT=list()\n",
    "    id+=1\n",
    "\n",
    "save_op(product_id, products, AT)"
   ]
  },
  {
   "cell_type": "markdown",
   "metadata": {},
   "source": [
    "# 3. Flavor Profile [Fruity, Spicy, Herbal, Floral, Sweet, Bitter, Sour, Savory, Other]"
   ]
  },
  {
   "cell_type": "code",
   "execution_count": null,
   "metadata": {},
   "outputs": [],
   "source": [
    "avl_id= pd.read_excel(\"Flavor_profile.xlsx\")\n",
    "avl_id= avl_id.product_id.unique()\n",
    "avl_id"
   ]
  },
  {
   "cell_type": "code",
   "execution_count": null,
   "metadata": {},
   "outputs": [],
   "source": [
    "# Store successful queries \n",
    "def save_op(product_id, products, info):\n",
    "    result_df=pd.read_excel('Flavor_profile.xlsx')\n",
    "    new_product_info=pd.DataFrame({\n",
    "        \"product_id\":product_id,\n",
    "        \"product_name\":products,\n",
    "        \"flavor\":info\n",
    "    })\n",
    "    result_df= result_df.append(new_product_info)\n",
    "    result_df.to_excel('Flavor_profile.xlsx',index=False)\n",
    "    print(\"DF Save Success\")\n",
    "\n",
    "# Query through each product and collect ABV (Alcohol By Volume)\n",
    "product_id=list()\n",
    "products=list()\n",
    "info=list()\n",
    "\n",
    "id=8097\n",
    "\n",
    "#for product_name in product_names[id:]:\n",
    "for i in range (id,9842):\n",
    "    product_name= product_names[i]\n",
    "    if(i in avl_id): \n",
    "        continue\n",
    "    query = 'What is the flavour profile of '+product_name+' ? Choose one from [Fruity, Spicy, Herbal, Floral, Sweet, Bitter, Sour, Savory, Other]. Example response: \"Herbal\"'\n",
    "\n",
    "    output = openai.chat.completions.create(\n",
    "        model=\"gpt-3.5-turbo\", \n",
    "        messages=[{\"role\": \"user\", \n",
    "                   \"content\": query\n",
    "                   }])\n",
    "                   \n",
    "    result= output.choices[0].message.content\n",
    "\n",
    "    result_final= result\n",
    "    product_id.append(i)\n",
    "    products.append(product_name)\n",
    "    info.append(result_final)\n",
    "    print(i,end=' ')\n",
    "\n",
    "    if(i%15 == 0):\n",
    "        print(\"Pausing for 30 seconds...\", end= \" \")\n",
    "        time.sleep(30)\n",
    "        print(\"Resuming...\")\n",
    "\n",
    "    if(i%1000 == 0): \n",
    "        save_op(product_id, products, info)\n",
    "        product_id=list()\n",
    "        products=list()\n",
    "        info=list()\n",
    "\n",
    "save_op(product_id, products, info)"
   ]
  }
 ],
 "metadata": {
  "kernelspec": {
   "display_name": "Python 3",
   "language": "python",
   "name": "python3"
  },
  "language_info": {
   "codemirror_mode": {
    "name": "ipython",
    "version": 3
   },
   "file_extension": ".py",
   "mimetype": "text/x-python",
   "name": "python",
   "nbconvert_exporter": "python",
   "pygments_lexer": "ipython3",
   "version": "3.11.5"
  }
 },
 "nbformat": 4,
 "nbformat_minor": 2
}
